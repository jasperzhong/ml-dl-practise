{
 "cells": [
  {
   "cell_type": "code",
   "execution_count": 2,
   "metadata": {},
   "outputs": [],
   "source": [
    "! cd ../data/TREC/"
   ]
  },
  {
   "cell_type": "code",
   "execution_count": 3,
   "metadata": {},
   "outputs": [
    {
     "name": "stdout",
     "output_type": "stream",
     "text": [
      "--2018-07-17 18:59:43--  http://cogcomp.org/Data/QA/QC/train_1000.label\n",
      "Resolving cogcomp.org (cogcomp.org)... 192.17.58.140\n",
      "Connecting to cogcomp.org (cogcomp.org)|192.17.58.140|:80... connected.\n",
      "HTTP request sent, awaiting response... 200 OK\n",
      "Length: 60774 (59K) [text/plain]\n",
      "Saving to: ‘train_1000.label’\n",
      "\n",
      "train_1000.label    100%[===================>]  59.35K   127KB/s    in 0.5s    \n",
      "\n",
      "2018-07-17 18:59:44 (127 KB/s) - ‘train_1000.label’ saved [60774/60774]\n",
      "\n",
      "--2018-07-17 18:59:44--  http://cogcomp.org/Data/QA/QC/train_2000.label\n",
      "Resolving cogcomp.org (cogcomp.org)... 192.17.58.140\n",
      "Connecting to cogcomp.org (cogcomp.org)|192.17.58.140|:80... connected.\n",
      "HTTP request sent, awaiting response... 200 OK\n",
      "Length: 122681 (120K) [text/plain]\n",
      "Saving to: ‘train_2000.label’\n",
      "\n",
      "train_2000.label    100%[===================>] 119.81K   173KB/s    in 0.7s    \n",
      "\n",
      "2018-07-17 18:59:46 (173 KB/s) - ‘train_2000.label’ saved [122681/122681]\n",
      "\n",
      "--2018-07-17 18:59:46--  http://cogcomp.org/Data/QA/QC/train_3000.label\n",
      "Resolving cogcomp.org (cogcomp.org)... 192.17.58.140\n",
      "Connecting to cogcomp.org (cogcomp.org)|192.17.58.140|:80... connected.\n",
      "HTTP request sent, awaiting response... 200 OK\n",
      "Length: 184363 (180K) [text/plain]\n",
      "Saving to: ‘train_3000.label’\n",
      "\n",
      "train_3000.label    100%[===================>] 180.04K   258KB/s    in 0.7s    \n",
      "\n",
      "2018-07-17 18:59:47 (258 KB/s) - ‘train_3000.label’ saved [184363/184363]\n",
      "\n",
      "--2018-07-17 18:59:47--  http://cogcomp.org/Data/QA/QC/train_4000.label\n",
      "Resolving cogcomp.org (cogcomp.org)... 192.17.58.140\n",
      "Connecting to cogcomp.org (cogcomp.org)|192.17.58.140|:80... connected.\n",
      "HTTP request sent, awaiting response... 200 OK\n",
      "Length: 246583 (241K) [text/plain]\n",
      "Saving to: ‘train_4000.label’\n",
      "\n",
      "train_4000.label    100%[===================>] 240.80K   260KB/s    in 0.9s    \n",
      "\n",
      "2018-07-17 18:59:48 (260 KB/s) - ‘train_4000.label’ saved [246583/246583]\n",
      "\n",
      "--2018-07-17 18:59:48--  http://cogcomp.org/Data/QA/QC/train_5500.label\n",
      "Resolving cogcomp.org (cogcomp.org)... 192.17.58.140\n",
      "Connecting to cogcomp.org (cogcomp.org)|192.17.58.140|:80... connected.\n",
      "HTTP request sent, awaiting response... 200 OK\n",
      "Length: 335858 (328K) [text/plain]\n",
      "Saving to: ‘train_5500.label’\n",
      "\n",
      "train_5500.label    100%[===================>] 327.99K   328KB/s    in 1.0s    \n",
      "\n",
      "2018-07-17 18:59:50 (328 KB/s) - ‘train_5500.label’ saved [335858/335858]\n",
      "\n"
     ]
    }
   ],
   "source": [
    "! wget http://cogcomp.org/Data/QA/QC/train_1000.label\n",
    "! wget http://cogcomp.org/Data/QA/QC/train_2000.label\n",
    "! wget http://cogcomp.org/Data/QA/QC/train_3000.label\n",
    "! wget http://cogcomp.org/Data/QA/QC/train_4000.label\n",
    "! wget http://cogcomp.org/Data/QA/QC/train_5500.label"
   ]
  },
  {
   "cell_type": "code",
   "execution_count": 44,
   "metadata": {},
   "outputs": [
    {
     "name": "stdout",
     "output_type": "stream",
     "text": [
      "5452 lines count\n",
      "lines[0]: DESC:manner How did serfdom develop in and then leave Russia ?\n",
      "\n"
     ]
    }
   ],
   "source": [
    "txts = ['5500']\n",
    "lines = []\n",
    "\n",
    "for txt in txts:\n",
    "    file_name = '/home/zyc/jupyter/data/TREC/train_' + txt + '.label'\n",
    "    with open(file_name, 'rb') as f:\n",
    "        lines.extend(f.readlines())\n",
    "\n",
    "print('%d lines count' % (len(lines)))\n",
    "print('lines[0]: %s' % lines[0].decode())"
   ]
  },
  {
   "cell_type": "code",
   "execution_count": 45,
   "metadata": {},
   "outputs": [
    {
     "name": "stdout",
     "output_type": "stream",
     "text": [
      "LOC:city Which city has the oldest relationship as a sister city with Los Angeles ?\n",
      "\n",
      "5452\n"
     ]
    }
   ],
   "source": [
    "X = []\n",
    "Y_coarse = []\n",
    "Y_fine = []\n",
    "for line in lines:\n",
    "    try:\n",
    "        line = line.decode()\n",
    "    except UnicodeDecodeError:\n",
    "        new_line = []\n",
    "        for char in line:\n",
    "            if char <= 127:\n",
    "                new_line.append(chr(char))\n",
    "            else:\n",
    "                new_line.append(chr(32))\n",
    "        line = ''.join(new_line)\n",
    "        print(line)\n",
    "    \n",
    "    tmp = line.split(' ')\n",
    "    X.append(' '.join(tmp[1:]))\n",
    "    Y = tmp[0].split(':')\n",
    "    Y_coarse.append(Y[0])\n",
    "    Y_fine.append(Y[1])\n",
    "\n",
    "assert len(X) == len(Y_coarse) == len(Y_fine)\n",
    "print(len(X))"
   ]
  },
  {
   "cell_type": "code",
   "execution_count": 46,
   "metadata": {},
   "outputs": [
    {
     "name": "stdout",
     "output_type": "stream",
     "text": [
      "How did serfdom develop in and then leave Russia ?\n",
      "\n",
      "DESC\n",
      "manner\n"
     ]
    }
   ],
   "source": [
    "print(X[0])\n",
    "print(Y_coarse[0])\n",
    "print(Y_fine[0])"
   ]
  },
  {
   "cell_type": "code",
   "execution_count": 47,
   "metadata": {},
   "outputs": [
    {
     "name": "stderr",
     "output_type": "stream",
     "text": [
      "/home/zyc/.conda/envs/zyc/lib/python3.6/importlib/_bootstrap.py:219: RuntimeWarning: numpy.dtype size changed, may indicate binary incompatibility. Expected 96, got 88\n",
      "  return f(*args, **kwds)\n"
     ]
    }
   ],
   "source": [
    "import xgboost as xgb\n",
    "\n",
    "from sklearn.metrics import classification_report\n",
    "from sklearn.model_selection import train_test_split"
   ]
  },
  {
   "cell_type": "code",
   "execution_count": null,
   "metadata": {},
   "outputs": [],
   "source": [
    "def one_hot():\n",
    "    pass"
   ]
  },
  {
   "cell_type": "markdown",
   "metadata": {},
   "source": [
    "# coarse classification"
   ]
  },
  {
   "cell_type": "code",
   "execution_count": 48,
   "metadata": {},
   "outputs": [],
   "source": [
    "X_train, X_test, y_train, y_test = train_test_split(X, Y_coarse, test_size=0.33)"
   ]
  },
  {
   "cell_type": "code",
   "execution_count": null,
   "metadata": {},
   "outputs": [],
   "source": []
  }
 ],
 "metadata": {
  "kernelspec": {
   "display_name": "Python 3",
   "language": "python",
   "name": "python3"
  },
  "language_info": {
   "codemirror_mode": {
    "name": "ipython",
    "version": 3
   },
   "file_extension": ".py",
   "mimetype": "text/x-python",
   "name": "python",
   "nbconvert_exporter": "python",
   "pygments_lexer": "ipython3",
   "version": "3.6.6"
  }
 },
 "nbformat": 4,
 "nbformat_minor": 2
}
